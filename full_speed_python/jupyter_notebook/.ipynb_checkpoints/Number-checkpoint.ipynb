{
 "cells": [
  {
   "cell_type": "code",
   "execution_count": 1,
   "metadata": {},
   "outputs": [
    {
     "name": "stdout",
     "output_type": "stream",
     "text": [
      "<class 'int'>\n",
      "<class 'float'>\n"
     ]
    }
   ],
   "source": [
    "a = 2\n",
    "print(type(a)) # print the data type of variable a\n",
    "\n",
    "b = 2.5\n",
    "print(type(b)) # prints data type of variable b\n"
   ]
  },
  {
   "cell_type": "code",
   "execution_count": 2,
   "metadata": {},
   "outputs": [
    {
     "name": "stdout",
     "output_type": "stream",
     "text": [
      "4.5\n",
      "9.0\n",
      "7.333333333333333\n"
     ]
    }
   ],
   "source": [
    "a = 2\n",
    "b = 2.5\n",
    "print(a + b)\n",
    "print((a + b) * 2)\n",
    "print(2 + 2 + 4 - 2 / 3)"
   ]
  },
  {
   "cell_type": "code",
   "execution_count": 3,
   "metadata": {},
   "outputs": [
    {
     "name": "stdout",
     "output_type": "stream",
     "text": [
      "1  1.5\n",
      "2  1\n",
      "3  1\n",
      "4  9\n"
     ]
    }
   ],
   "source": [
    "def MathOp():\n",
    "    print(\"1 \", 3 / 2)\n",
    "    print(\"2 \", 3 // 2)\n",
    "    print(\"3 \", 3 % 2)\n",
    "    print(\"4 \", 3 ** 2)\n",
    "\n",
    "MathOp()"
   ]
  },
  {
   "cell_type": "code",
   "execution_count": 4,
   "metadata": {},
   "outputs": [
    {
     "name": "stdout",
     "output_type": "stream",
     "text": [
      "1.5\n",
      "1\n",
      "1\n",
      "9\n"
     ]
    }
   ],
   "source": [
    "def MathOp():\n",
    "    classic_division = 3 / 2\n",
    "    floor_division = 3 // 2\n",
    "    modulus = 3 % 2\n",
    "    power = 3 ** 2\n",
    "    return [classic_division, floor_division, modulus, power]\n",
    "[classic_division, floor_division, modulus, power] = MathOp()\n",
    "\n",
    "print(classic_division)\n",
    "print(floor_division)\n",
    "print(modulus)\n",
    "print(power)\n"
   ]
  },
  {
   "cell_type": "code",
   "execution_count": null,
   "metadata": {},
   "outputs": [],
   "source": [
    "def checkParity(n):\n",
    "    ## Write your code here\n",
    "    result = -1 ## Update result according to the parity\n",
    "    if n % 2 == 0:\n",
    "        result = 0\n",
    "    else:\n",
    "        result = 1\n",
    "    return result"
   ]
  }
 ],
 "metadata": {
  "kernelspec": {
   "display_name": "Python 3",
   "language": "python",
   "name": "python3"
  },
  "language_info": {
   "codemirror_mode": {
    "name": "ipython",
    "version": 3
   },
   "file_extension": ".py",
   "mimetype": "text/x-python",
   "name": "python",
   "nbconvert_exporter": "python",
   "pygments_lexer": "ipython3",
   "version": "3.8.5"
  }
 },
 "nbformat": 4,
 "nbformat_minor": 4
}
